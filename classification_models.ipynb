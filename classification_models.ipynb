{
 "cells": [
  {
   "cell_type": "markdown",
   "metadata": {},
   "source": [
    "The various classification models considered are:\n",
    "\n",
    "- Logistic Regression\n",
    "- Support Vector Classifier\n",
    "- Decision Tree Classifier\n",
    "- Random Forest Classifier\n",
    "- K Nearest Neighbour Classifier\n",
    "- Naive Bayes Classifier\n",
    "- Linear Discriminant Analysis"
   ]
  },
  {
   "cell_type": "code",
   "execution_count": 1,
   "metadata": {},
   "outputs": [],
   "source": [
    "# importing the libraries\n",
    "\n",
    "import numpy as np\n",
    "import pandas as pd\n",
    "import matplotlib.pyplot as plt\n",
    "import seaborn as sns\n"
   ]
  },
  {
   "cell_type": "code",
   "execution_count": 2,
   "metadata": {},
   "outputs": [],
   "source": [
    "# loading the dataset\n",
    "df = pd.read_table('dataset.txt')"
   ]
  },
  {
   "cell_type": "code",
   "execution_count": 3,
   "metadata": {},
   "outputs": [
    {
     "data": {
      "text/html": [
       "<div>\n",
       "<style scoped>\n",
       "    .dataframe tbody tr th:only-of-type {\n",
       "        vertical-align: middle;\n",
       "    }\n",
       "\n",
       "    .dataframe tbody tr th {\n",
       "        vertical-align: top;\n",
       "    }\n",
       "\n",
       "    .dataframe thead th {\n",
       "        text-align: right;\n",
       "    }\n",
       "</style>\n",
       "<table border=\"1\" class=\"dataframe\">\n",
       "  <thead>\n",
       "    <tr style=\"text-align: right;\">\n",
       "      <th></th>\n",
       "      <th>fruit_label</th>\n",
       "      <th>fruit_name</th>\n",
       "      <th>fruit_subtype</th>\n",
       "      <th>mass</th>\n",
       "      <th>width</th>\n",
       "      <th>height</th>\n",
       "      <th>color_score</th>\n",
       "    </tr>\n",
       "  </thead>\n",
       "  <tbody>\n",
       "    <tr>\n",
       "      <th>0</th>\n",
       "      <td>1</td>\n",
       "      <td>apple</td>\n",
       "      <td>granny_smith</td>\n",
       "      <td>192</td>\n",
       "      <td>8.4</td>\n",
       "      <td>7.3</td>\n",
       "      <td>0.55</td>\n",
       "    </tr>\n",
       "    <tr>\n",
       "      <th>1</th>\n",
       "      <td>1</td>\n",
       "      <td>apple</td>\n",
       "      <td>granny_smith</td>\n",
       "      <td>180</td>\n",
       "      <td>8.0</td>\n",
       "      <td>6.8</td>\n",
       "      <td>0.59</td>\n",
       "    </tr>\n",
       "    <tr>\n",
       "      <th>2</th>\n",
       "      <td>1</td>\n",
       "      <td>apple</td>\n",
       "      <td>granny_smith</td>\n",
       "      <td>176</td>\n",
       "      <td>7.4</td>\n",
       "      <td>7.2</td>\n",
       "      <td>0.60</td>\n",
       "    </tr>\n",
       "    <tr>\n",
       "      <th>3</th>\n",
       "      <td>2</td>\n",
       "      <td>mandarin</td>\n",
       "      <td>mandarin</td>\n",
       "      <td>86</td>\n",
       "      <td>6.2</td>\n",
       "      <td>4.7</td>\n",
       "      <td>0.80</td>\n",
       "    </tr>\n",
       "    <tr>\n",
       "      <th>4</th>\n",
       "      <td>2</td>\n",
       "      <td>mandarin</td>\n",
       "      <td>mandarin</td>\n",
       "      <td>84</td>\n",
       "      <td>6.0</td>\n",
       "      <td>4.6</td>\n",
       "      <td>0.79</td>\n",
       "    </tr>\n",
       "  </tbody>\n",
       "</table>\n",
       "</div>"
      ],
      "text/plain": [
       "   fruit_label fruit_name fruit_subtype  mass  width  height  color_score\n",
       "0            1      apple  granny_smith   192    8.4     7.3         0.55\n",
       "1            1      apple  granny_smith   180    8.0     6.8         0.59\n",
       "2            1      apple  granny_smith   176    7.4     7.2         0.60\n",
       "3            2   mandarin      mandarin    86    6.2     4.7         0.80\n",
       "4            2   mandarin      mandarin    84    6.0     4.6         0.79"
      ]
     },
     "execution_count": 3,
     "metadata": {},
     "output_type": "execute_result"
    }
   ],
   "source": [
    "# viewing the top 5 rows\n",
    "df.head()"
   ]
  },
  {
   "cell_type": "code",
   "execution_count": 4,
   "metadata": {},
   "outputs": [
    {
     "name": "stdout",
     "output_type": "stream",
     "text": [
      "Index(['fruit_label', 'fruit_name', 'fruit_subtype', 'mass', 'width', 'height',\n",
      "       'color_score'],\n",
      "      dtype='object')\n"
     ]
    }
   ],
   "source": [
    "# Exploring the datasets\n",
    "print(df.columns)"
   ]
  },
  {
   "cell_type": "code",
   "execution_count": 5,
   "metadata": {},
   "outputs": [
    {
     "data": {
      "text/plain": [
       "(59, 7)"
      ]
     },
     "execution_count": 5,
     "metadata": {},
     "output_type": "execute_result"
    }
   ],
   "source": [
    "# printing the shape of the data\n",
    "df.shape"
   ]
  },
  {
   "cell_type": "code",
   "execution_count": 6,
   "metadata": {},
   "outputs": [
    {
     "data": {
      "text/html": [
       "<div>\n",
       "<style scoped>\n",
       "    .dataframe tbody tr th:only-of-type {\n",
       "        vertical-align: middle;\n",
       "    }\n",
       "\n",
       "    .dataframe tbody tr th {\n",
       "        vertical-align: top;\n",
       "    }\n",
       "\n",
       "    .dataframe thead th {\n",
       "        text-align: right;\n",
       "    }\n",
       "</style>\n",
       "<table border=\"1\" class=\"dataframe\">\n",
       "  <thead>\n",
       "    <tr style=\"text-align: right;\">\n",
       "      <th></th>\n",
       "      <th>fruit_label</th>\n",
       "      <th>mass</th>\n",
       "      <th>width</th>\n",
       "      <th>height</th>\n",
       "      <th>color_score</th>\n",
       "    </tr>\n",
       "  </thead>\n",
       "  <tbody>\n",
       "    <tr>\n",
       "      <th>count</th>\n",
       "      <td>59.000000</td>\n",
       "      <td>59.000000</td>\n",
       "      <td>59.000000</td>\n",
       "      <td>59.000000</td>\n",
       "      <td>59.000000</td>\n",
       "    </tr>\n",
       "    <tr>\n",
       "      <th>mean</th>\n",
       "      <td>2.542373</td>\n",
       "      <td>163.118644</td>\n",
       "      <td>7.105085</td>\n",
       "      <td>7.693220</td>\n",
       "      <td>0.762881</td>\n",
       "    </tr>\n",
       "    <tr>\n",
       "      <th>std</th>\n",
       "      <td>1.208048</td>\n",
       "      <td>55.018832</td>\n",
       "      <td>0.816938</td>\n",
       "      <td>1.361017</td>\n",
       "      <td>0.076857</td>\n",
       "    </tr>\n",
       "    <tr>\n",
       "      <th>min</th>\n",
       "      <td>1.000000</td>\n",
       "      <td>76.000000</td>\n",
       "      <td>5.800000</td>\n",
       "      <td>4.000000</td>\n",
       "      <td>0.550000</td>\n",
       "    </tr>\n",
       "    <tr>\n",
       "      <th>25%</th>\n",
       "      <td>1.000000</td>\n",
       "      <td>140.000000</td>\n",
       "      <td>6.600000</td>\n",
       "      <td>7.200000</td>\n",
       "      <td>0.720000</td>\n",
       "    </tr>\n",
       "    <tr>\n",
       "      <th>50%</th>\n",
       "      <td>3.000000</td>\n",
       "      <td>158.000000</td>\n",
       "      <td>7.200000</td>\n",
       "      <td>7.600000</td>\n",
       "      <td>0.750000</td>\n",
       "    </tr>\n",
       "    <tr>\n",
       "      <th>75%</th>\n",
       "      <td>4.000000</td>\n",
       "      <td>177.000000</td>\n",
       "      <td>7.500000</td>\n",
       "      <td>8.200000</td>\n",
       "      <td>0.810000</td>\n",
       "    </tr>\n",
       "    <tr>\n",
       "      <th>max</th>\n",
       "      <td>4.000000</td>\n",
       "      <td>362.000000</td>\n",
       "      <td>9.600000</td>\n",
       "      <td>10.500000</td>\n",
       "      <td>0.930000</td>\n",
       "    </tr>\n",
       "  </tbody>\n",
       "</table>\n",
       "</div>"
      ],
      "text/plain": [
       "       fruit_label        mass      width     height  color_score\n",
       "count    59.000000   59.000000  59.000000  59.000000    59.000000\n",
       "mean      2.542373  163.118644   7.105085   7.693220     0.762881\n",
       "std       1.208048   55.018832   0.816938   1.361017     0.076857\n",
       "min       1.000000   76.000000   5.800000   4.000000     0.550000\n",
       "25%       1.000000  140.000000   6.600000   7.200000     0.720000\n",
       "50%       3.000000  158.000000   7.200000   7.600000     0.750000\n",
       "75%       4.000000  177.000000   7.500000   8.200000     0.810000\n",
       "max       4.000000  362.000000   9.600000  10.500000     0.930000"
      ]
     },
     "execution_count": 6,
     "metadata": {},
     "output_type": "execute_result"
    }
   ],
   "source": [
    "# description of statistical features\n",
    "df.describe()"
   ]
  },
  {
   "cell_type": "code",
   "execution_count": 7,
   "metadata": {},
   "outputs": [
    {
     "name": "stdout",
     "output_type": "stream",
     "text": [
      "<class 'pandas.core.frame.DataFrame'>\n",
      "RangeIndex: 59 entries, 0 to 58\n",
      "Data columns (total 7 columns):\n",
      " #   Column         Non-Null Count  Dtype  \n",
      "---  ------         --------------  -----  \n",
      " 0   fruit_label    59 non-null     int64  \n",
      " 1   fruit_name     59 non-null     object \n",
      " 2   fruit_subtype  59 non-null     object \n",
      " 3   mass           59 non-null     int64  \n",
      " 4   width          59 non-null     float64\n",
      " 5   height         59 non-null     float64\n",
      " 6   color_score    59 non-null     float64\n",
      "dtypes: float64(3), int64(2), object(2)\n",
      "memory usage: 3.4+ KB\n"
     ]
    }
   ],
   "source": [
    "df.info()"
   ]
  },
  {
   "cell_type": "code",
   "execution_count": 8,
   "metadata": {},
   "outputs": [
    {
     "name": "stdout",
     "output_type": "stream",
     "text": [
      "['apple' 'mandarin' 'orange' 'lemon']\n"
     ]
    }
   ],
   "source": [
    "print(df['fruit_name'].unique())"
   ]
  },
  {
   "cell_type": "code",
   "execution_count": 9,
   "metadata": {},
   "outputs": [
    {
     "name": "stdout",
     "output_type": "stream",
     "text": [
      "fruit_name\n",
      "apple       19\n",
      "lemon       16\n",
      "mandarin     5\n",
      "orange      19\n",
      "dtype: int64\n"
     ]
    }
   ],
   "source": [
    "print(df.groupby('fruit_name').size())"
   ]
  },
  {
   "cell_type": "code",
   "execution_count": 10,
   "metadata": {},
   "outputs": [
    {
     "data": {
      "image/png": "[encoded data removed]",
      "text/plain": [
       "<Figure size 432x288 with 1 Axes>"
      ]
     },
     "metadata": {
      "needs_background": "light"
     },
     "output_type": "display_data"
    }
   ],
   "source": [
    "import seaborn as sns\n",
    "sns.countplot(df['fruit_name'],label='Count')\n",
    "plt.show()"
   ]
  },
  {
   "cell_type": "code",
   "execution_count": 11,
   "metadata": {},
   "outputs": [
    {
     "data": {
      "image/png": "[encoded data removed]",
      "text/plain": [
       "<Figure size 720x720 with 4 Axes>"
      ]
     },
     "metadata": {
      "needs_background": "light"
     },
     "output_type": "display_data"
    }
   ],
   "source": [
    "# distribution of numerical variables\n",
    "df.drop('fruit_label' ,axis=1).plot(kind='box',subplots=True, layout=(2,2), figsize=(10,10),title='Box Plot for input variable')\n",
    "plt.show()"
   ]
  },
  {
   "cell_type": "code",
   "execution_count": 12,
   "metadata": {},
   "outputs": [
    {
     "data": {
      "image/png": "[encoded data removed]",
      "text/plain": [
       "<Figure size 1152x720 with 6 Axes>"
      ]
     },
     "metadata": {
      "needs_background": "light"
     },
     "output_type": "display_data"
    }
   ],
   "source": [
    "# plotting histogram of the data\n",
    "df.hist(figsize = (16,10))\n",
    "plt.show()"
   ]
  },
  {
   "cell_type": "code",
   "execution_count": 13,
   "metadata": {},
   "outputs": [
    {
     "data": {
      "image/png": "[encoded data removed]",
      "text/plain": [
       "<Figure size 1440x432 with 2 Axes>"
      ]
     },
     "metadata": {
      "needs_background": "light"
     },
     "output_type": "display_data"
    }
   ],
   "source": [
    "# correlation matrix\n",
    "\n",
    "corr_mat = df.corr()\n",
    "fig = plt.figure(figsize = (20, 6))\n",
    "\n",
    "sns.heatmap(corr_mat, annot=True, cmap='tab20c')\n",
    "plt.show()"
   ]
  },
  {
   "cell_type": "code",
   "execution_count": 14,
   "metadata": {},
   "outputs": [],
   "source": [
    "X = df.drop(['fruit_label', 'fruit_name', 'fruit_subtype'],axis=1)\n",
    "y = df['fruit_label']"
   ]
  },
  {
   "cell_type": "markdown",
   "metadata": {},
   "source": [
    "### TrainTest Split\n"
   ]
  },
  {
   "cell_type": "code",
   "execution_count": 15,
   "metadata": {},
   "outputs": [],
   "source": [
    "from sklearn.model_selection import train_test_split\n",
    "\n",
    "X_train, X_test, y_train, y_test = train_test_split(X, y, random_state=0)\n",
    "\n"
   ]
  },
  {
   "cell_type": "code",
   "execution_count": 16,
   "metadata": {},
   "outputs": [
    {
     "name": "stdout",
     "output_type": "stream",
     "text": [
      "The split of the data is as follows\n",
      "X_train:  44\n",
      "X_test:  15\n",
      "y_train:  44\n",
      "y_test:  15\n"
     ]
    }
   ],
   "source": [
    "print(\"The split of the data is as follows\")\n",
    "print(\"X_train: \", len(X_train))\n",
    "print(\"X_test: \", len(X_test))\n",
    "print(\"y_train: \", len(y_train))\n",
    "print(\"y_test: \", len(y_test))"
   ]
  },
  {
   "cell_type": "markdown",
   "metadata": {},
   "source": [
    "### Scaling\n"
   ]
  },
  {
   "cell_type": "code",
   "execution_count": 17,
   "metadata": {},
   "outputs": [],
   "source": [
    "from sklearn.preprocessing import StandardScaler\n",
    "scaler = StandardScaler()\n",
    "\n",
    "X_train = scaler.fit_transform(X_train)\n",
    "X_test = scaler.transform(X_test)"
   ]
  },
  {
   "cell_type": "markdown",
   "metadata": {},
   "source": [
    "### Building Models"
   ]
  },
  {
   "cell_type": "markdown",
   "metadata": {},
   "source": [
    "## Logistic Regression"
   ]
  },
  {
   "cell_type": "code",
   "execution_count": 18,
   "metadata": {},
   "outputs": [],
   "source": [
    "from sklearn.linear_model import LogisticRegression\n",
    "from sklearn.metrics import classification_report, confusion_matrix\n",
    "\n",
    "lr = LogisticRegression()\n",
    "# fitting the data\n",
    "lr.fit(X_train, y_train)\n",
    "pred1 = lr.predict(X_test)"
   ]
  },
  {
   "cell_type": "code",
   "execution_count": 19,
   "metadata": {},
   "outputs": [],
   "source": [
    "Confusion_Matrix1 = confusion_matrix(y_test, pred1)"
   ]
  },
  {
   "cell_type": "code",
   "execution_count": 20,
   "metadata": {},
   "outputs": [
    {
     "data": {
      "image/png": "[encoded data removed]",
      "text/plain": [
       "<Figure size 216x216 with 1 Axes>"
      ]
     },
     "metadata": {
      "needs_background": "light"
     },
     "output_type": "display_data"
    },
    {
     "name": "stdout",
     "output_type": "stream",
     "text": [
      "[3 1 4 4 3 1 1 4 1 1 2 3 1 1 3]\n",
      "              precision    recall  f1-score   support\n",
      "\n",
      "           1       0.29      0.50      0.36         4\n",
      "           2       1.00      1.00      1.00         1\n",
      "           3       0.50      0.25      0.33         8\n",
      "           4       0.67      1.00      0.80         2\n",
      "\n",
      "    accuracy                           0.47        15\n",
      "   macro avg       0.61      0.69      0.62        15\n",
      "weighted avg       0.50      0.47      0.45        15\n",
      "\n",
      "Accuracy of Logistic Regression Classifier on training set:0.82\n",
      "Accuracy of Logistic Regression Classifier on testing set:0.47\n"
     ]
    }
   ],
   "source": [
    "def Plot_Confusion_Matrix(Confusion_Matrix) :\n",
    "    '''\n",
    "    \n",
    "    Plot Confusion Matrix using Seaborn's Heatmap\n",
    "    \n",
    "    Parameter\n",
    "    ---------\n",
    "    \n",
    "    Confusion Matrix.\n",
    "    \n",
    "    '''\n",
    "    \n",
    "    Fig, Axes = plt.subplots(figsize=(3,3))\n",
    "    Axes = sns.heatmap(Confusion_Matrix, annot=True, cbar = False)\n",
    "    plt.xlabel('True Labels')\n",
    "    plt.ylabel('Predicted Labels')\n",
    "    \n",
    "    # Fix the Broken Annotations\n",
    "    \n",
    "    Bottom, Top = Axes.get_ylim()\n",
    "    Axes.set_ylim(Bottom + 0.5, Top - 0.5)\n",
    "    plt.show()\n",
    "    \n",
    "Plot_Confusion_Matrix(Confusion_Matrix1)\n",
    "\n",
    "\n",
    "# printing the results\n",
    "print(pred1)\n",
    "print(classification_report(y_test, pred1))\n",
    "print('Accuracy of Logistic Regression Classifier on training set:{:.2f}'.format(lr.score(X_train, y_train)))\n",
    "print('Accuracy of Logistic Regression Classifier on testing set:{:.2f}'.format(lr.score(X_test,y_test)))"
   ]
  },
  {
   "cell_type": "markdown",
   "metadata": {},
   "source": [
    "## Support Vector Machine"
   ]
  },
  {
   "cell_type": "code",
   "execution_count": 21,
   "metadata": {},
   "outputs": [
    {
     "name": "stdout",
     "output_type": "stream",
     "text": [
      "[3 3 4 4 1 1 1 4 3 1 2 1 3 3 3]\n"
     ]
    },
    {
     "data": {
      "image/png": "[encoded data removed]",
      "text/plain": [
       "<Figure size 216x216 with 1 Axes>"
      ]
     },
     "metadata": {
      "needs_background": "light"
     },
     "output_type": "display_data"
    },
    {
     "name": "stdout",
     "output_type": "stream",
     "text": [
      "              precision    recall  f1-score   support\n",
      "\n",
      "           1       0.80      1.00      0.89         4\n",
      "           2       1.00      1.00      1.00         1\n",
      "           3       1.00      0.75      0.86         8\n",
      "           4       0.67      1.00      0.80         2\n",
      "\n",
      "    accuracy                           0.87        15\n",
      "   macro avg       0.87      0.94      0.89        15\n",
      "weighted avg       0.90      0.87      0.87        15\n",
      "\n",
      "Accuracy of SVM Classifier on training set:1.00\n",
      "Accuracy of SVM Classifier on testing set:0.87\n"
     ]
    }
   ],
   "source": [
    "from sklearn.svm import SVC\n",
    "\n",
    "svm = SVC()\n",
    "# fitting the data\n",
    "svm.fit(X_train, y_train)\n",
    "pred2 = svm.predict(X_test)\n",
    "\n",
    "# printing the results\n",
    "print(pred2)\n",
    "Confusion_Matrix2 = confusion_matrix(y_test, pred2)\n",
    "Plot_Confusion_Matrix(Confusion_Matrix2)\n",
    "print(classification_report(y_test, pred2))\n",
    "\n",
    "print('Accuracy of SVM Classifier on training set:{:.2f}'.format(svm.score(X_train, y_train)))\n",
    "print('Accuracy of SVM Classifier on testing set:{:.2f}'.format(svm.score(X_test,y_test)))"
   ]
  },
  {
   "cell_type": "markdown",
   "metadata": {},
   "source": [
    "## Decision Tree Classifier\n"
   ]
  },
  {
   "cell_type": "code",
   "execution_count": 22,
   "metadata": {},
   "outputs": [
    {
     "name": "stdout",
     "output_type": "stream",
     "text": [
      "[3 3 4 1 1 1 1 4 3 1 2 1 3 3 3]\n"
     ]
    },
    {
     "data": {
      "image/png": "[encoded data removed]",
      "text/plain": [
       "<Figure size 216x216 with 1 Axes>"
      ]
     },
     "metadata": {
      "needs_background": "light"
     },
     "output_type": "display_data"
    },
    {
     "name": "stdout",
     "output_type": "stream",
     "text": [
      "              precision    recall  f1-score   support\n",
      "\n",
      "           1       0.67      1.00      0.80         4\n",
      "           2       1.00      1.00      1.00         1\n",
      "           3       1.00      0.75      0.86         8\n",
      "           4       1.00      1.00      1.00         2\n",
      "\n",
      "    accuracy                           0.87        15\n",
      "   macro avg       0.92      0.94      0.91        15\n",
      "weighted avg       0.91      0.87      0.87        15\n",
      "\n",
      "Accuracy of Decision Tree Classifier on training set:1.00\n",
      "Accuracy of Decision Tree Classifier on testing set:0.87\n"
     ]
    }
   ],
   "source": [
    "from sklearn.tree import DecisionTreeClassifier\n",
    "\n",
    "clf = DecisionTreeClassifier()\n",
    "# fitting the model\n",
    "clf.fit(X_train, y_train)\n",
    "pred3 = clf.predict(X_test)\n",
    "\n",
    "# printing the results\n",
    "print(pred3)\n",
    "confusion_matrix3 = confusion_matrix(y_test, pred3)\n",
    "\n",
    "Plot_Confusion_Matrix(confusion_matrix3)\n",
    "print(classification_report(y_test, pred3))\n",
    "\n",
    "print('Accuracy of Decision Tree Classifier on training set:{:.2f}'.format(clf.score(X_train, y_train)))\n",
    "print('Accuracy of Decision Tree Classifier on testing set:{:.2f}'.format(clf.score(X_test,y_test)))"
   ]
  },
  {
   "cell_type": "markdown",
   "metadata": {},
   "source": [
    "## Random Forest Classifier"
   ]
  },
  {
   "cell_type": "code",
   "execution_count": 23,
   "metadata": {},
   "outputs": [
    {
     "name": "stdout",
     "output_type": "stream",
     "text": [
      "[3 3 4 4 1 1 3 4 3 1 2 1 3 3 1]\n"
     ]
    },
    {
     "data": {
      "image/png": "[encoded data removed]",
      "text/plain": [
       "<Figure size 216x216 with 1 Axes>"
      ]
     },
     "metadata": {
      "needs_background": "light"
     },
     "output_type": "display_data"
    },
    {
     "name": "stdout",
     "output_type": "stream",
     "text": [
      "              precision    recall  f1-score   support\n",
      "\n",
      "           1       0.80      1.00      0.89         4\n",
      "           2       1.00      1.00      1.00         1\n",
      "           3       1.00      0.75      0.86         8\n",
      "           4       0.67      1.00      0.80         2\n",
      "\n",
      "    accuracy                           0.87        15\n",
      "   macro avg       0.87      0.94      0.89        15\n",
      "weighted avg       0.90      0.87      0.87        15\n",
      "\n",
      "Accuracy of Random Forest Classifier on training set:1.00\n",
      "Accuracy of Random Forest Classifier on testing set:0.87\n"
     ]
    }
   ],
   "source": [
    "from sklearn.ensemble import RandomForestClassifier\n",
    "rf = RandomForestClassifier()\n",
    "# fitting the data\n",
    "rf.fit(X_train, y_train)\n",
    "pred4 = rf.predict(X_test)\n",
    "\n",
    "# printing the results\n",
    "print(pred4)\n",
    "confusion_matrix4 = confusion_matrix(y_test, pred4)\n",
    "\n",
    "Plot_Confusion_Matrix(confusion_matrix4)\n",
    "print(classification_report(y_test, pred4))\n",
    "print('Accuracy of Random Forest Classifier on training set:{:.2f}'.format(rf.score(X_train, y_train)))\n",
    "print('Accuracy of Random Forest Classifier on testing set:{:.2f}'.format(rf.score(X_test,y_test)))"
   ]
  },
  {
   "cell_type": "markdown",
   "metadata": {},
   "source": [
    "## Naive Bayes Classifier"
   ]
  },
  {
   "cell_type": "code",
   "execution_count": 24,
   "metadata": {},
   "outputs": [
    {
     "name": "stdout",
     "output_type": "stream",
     "text": [
      "[3 1 4 4 1 1 1 4 1 1 2 1 1 3 3]\n"
     ]
    },
    {
     "data": {
      "image/png": "[encoded data removed]",
      "text/plain": [
       "<Figure size 216x216 with 1 Axes>"
      ]
     },
     "metadata": {
      "needs_background": "light"
     },
     "output_type": "display_data"
    },
    {
     "name": "stdout",
     "output_type": "stream",
     "text": [
      "              precision    recall  f1-score   support\n",
      "\n",
      "           1       0.50      1.00      0.67         4\n",
      "           2       1.00      1.00      1.00         1\n",
      "           3       1.00      0.38      0.55         8\n",
      "           4       0.67      1.00      0.80         2\n",
      "\n",
      "    accuracy                           0.67        15\n",
      "   macro avg       0.79      0.84      0.75        15\n",
      "weighted avg       0.82      0.67      0.64        15\n",
      "\n",
      "Accuracy of Naive Bayes Classifier on training set:0.86\n",
      "Accuracy of Naive Bayes Classifier on testing set:0.67\n"
     ]
    }
   ],
   "source": [
    "from sklearn.naive_bayes import GaussianNB\n",
    "gnb = GaussianNB()\n",
    "\n",
    "# fitting the data\n",
    "gnb.fit(X_train, y_train)\n",
    "pred5 = gnb.predict(X_test)\n",
    "\n",
    "# printing the results\n",
    "print(pred5)\n",
    "Confusion_Matrix5 = confusion_matrix(y_test, pred5)\n",
    "\n",
    "Plot_Confusion_Matrix(Confusion_Matrix5)\n",
    "print(classification_report(y_test, pred5))\n",
    "print('Accuracy of Naive Bayes Classifier on training set:{:.2f}'.format(gnb.score(X_train, y_train)))\n",
    "print('Accuracy of Naive Bayes Classifier on testing set:{:.2f}'.format(gnb.score(X_test,y_test)))"
   ]
  },
  {
   "cell_type": "markdown",
   "metadata": {},
   "source": [
    "## K-Nearest Neighbors"
   ]
  },
  {
   "cell_type": "code",
   "execution_count": 25,
   "metadata": {},
   "outputs": [
    {
     "name": "stdout",
     "output_type": "stream",
     "text": [
      "[3 3 4 3 1 1 3 4 3 1 2 1 3 3 1]\n"
     ]
    },
    {
     "data": {
      "image/png": "[encoded data removed]",
      "text/plain": [
       "<Figure size 216x216 with 1 Axes>"
      ]
     },
     "metadata": {
      "needs_background": "light"
     },
     "output_type": "display_data"
    },
    {
     "name": "stdout",
     "output_type": "stream",
     "text": [
      "              precision    recall  f1-score   support\n",
      "\n",
      "           1       0.80      1.00      0.89         4\n",
      "           2       1.00      1.00      1.00         1\n",
      "           3       1.00      0.88      0.93         8\n",
      "           4       1.00      1.00      1.00         2\n",
      "\n",
      "    accuracy                           0.93        15\n",
      "   macro avg       0.95      0.97      0.96        15\n",
      "weighted avg       0.95      0.93      0.93        15\n",
      "\n",
      "Accuracy of K-NN Classifier on training set:0.95\n",
      "Accuracy of K-NN Classifier on testing set:0.93\n"
     ]
    }
   ],
   "source": [
    "from sklearn.neighbors import KNeighborsClassifier\n",
    "knn = KNeighborsClassifier()\n",
    "\n",
    "# fitting the data\n",
    "knn.fit(X_train, y_train)\n",
    "pred6 = knn.predict(X_test)\n",
    "\n",
    "# printing the results\n",
    "print(pred6)\n",
    "Confusion_Matrix6 = confusion_matrix(y_test, pred6)\n",
    "\n",
    "Plot_Confusion_Matrix(Confusion_Matrix6)\n",
    "print(classification_report(y_test, pred6))\n",
    "print('Accuracy of K-NN Classifier on training set:{:.2f}'.format(knn.score(X_train, y_train)))\n",
    "print('Accuracy of K-NN Classifier on testing set:{:.2f}'.format(knn.score(X_test,y_test)))"
   ]
  },
  {
   "cell_type": "markdown",
   "metadata": {},
   "source": [
    "## Linear Discriminant Analysis"
   ]
  },
  {
   "cell_type": "code",
   "execution_count": 26,
   "metadata": {},
   "outputs": [
    {
     "name": "stdout",
     "output_type": "stream",
     "text": [
      "[3 3 4 3 3 3 1 4 3 1 2 3 3 1 3]\n"
     ]
    },
    {
     "data": {
      "image/png": "[encoded data removed]",
      "text/plain": [
       "<Figure size 216x216 with 1 Axes>"
      ]
     },
     "metadata": {
      "needs_background": "light"
     },
     "output_type": "display_data"
    },
    {
     "name": "stdout",
     "output_type": "stream",
     "text": [
      "              precision    recall  f1-score   support\n",
      "\n",
      "           1       0.33      0.25      0.29         4\n",
      "           2       1.00      1.00      1.00         1\n",
      "           3       0.67      0.75      0.71         8\n",
      "           4       1.00      1.00      1.00         2\n",
      "\n",
      "    accuracy                           0.67        15\n",
      "   macro avg       0.75      0.75      0.75        15\n",
      "weighted avg       0.64      0.67      0.65        15\n",
      "\n",
      "Accuracy of LDA Classifier on training set:0.86\n",
      "Accuracy of LDA Classifier on testing set:0.67\n"
     ]
    }
   ],
   "source": [
    "from sklearn.discriminant_analysis import LinearDiscriminantAnalysis\n",
    "\n",
    "lda = LinearDiscriminantAnalysis()\n",
    "# fitting the data\n",
    "lda.fit(X_train,y_train)\n",
    "pred7 = lda.predict(X_test)\n",
    "\n",
    "# printing the results\n",
    "print(pred7)\n",
    "Confusion_Matrix7 = confusion_matrix(y_test, pred7)\n",
    "\n",
    "Plot_Confusion_Matrix(Confusion_Matrix7)\n",
    "print(classification_report(y_test, pred7))\n",
    "print('Accuracy of LDA Classifier on training set:{:.2f}'.format(lda.score(X_train, y_train)))\n",
    "print('Accuracy of LDA Classifier on testing set:{:.2f}'.format(lda.score(X_test,y_test)))\n"
   ]
  },
  {
   "cell_type": "markdown",
   "metadata": {},
   "source": [
    "Precision : Positive Predicted Value\n",
    "\n",
    "Recall : True Positive Rate\n",
    "\n",
    "F1 Score : Combination of Precision and Recall (Average)\n",
    "\n",
    "Support : Number of Samples Each Metric is Calculated on.\n",
    "\n",
    "Accuracy : Accuracy of Model, Perfect Accuracy is 1.0 or 100%\n",
    "\n",
    "Macro Average : Average between Classes of Labels (0 and 1), Classes must be Balanced (Almost Equal Number of 0's and 1's )"
   ]
  },
  {
   "cell_type": "code",
   "execution_count": null,
   "metadata": {},
   "outputs": [],
   "source": []
  }
 ],
 "metadata": {
  "kernelspec": {
   "display_name": "Python 3",
   "language": "python",
   "name": "python3"
  },
  "language_info": {
   "codemirror_mode": {
    "name": "ipython",
    "version": 3
   },
   "file_extension": ".py",
   "mimetype": "text/x-python",
   "name": "python",
   "nbconvert_exporter": "python",
   "pygments_lexer": "ipython3",
   "version": "3.7.4"
  }
 },
 "nbformat": 4,
 "nbformat_minor": 4
}
